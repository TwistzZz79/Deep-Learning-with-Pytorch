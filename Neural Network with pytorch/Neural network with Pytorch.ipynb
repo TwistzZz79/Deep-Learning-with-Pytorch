{
 "cells": [
  {
   "cell_type": "code",
   "execution_count": 16,
   "id": "7e51fd5e",
   "metadata": {},
   "outputs": [],
   "source": [
    "import torch\n",
    "from torch import nn\n",
    "\n",
    "import torchvision\n",
    "import sklearn\n",
    "from torchvision import datasets\n",
    "from torchvision import transforms\n",
    "from torchvision.transforms import ToTensor\n",
    "\n",
    "import matplotlib.pyplot as plt"
   ]
  },
  {
   "cell_type": "code",
   "execution_count": 17,
   "id": "e75dea86",
   "metadata": {},
   "outputs": [],
   "source": [
    "from sklearn.datasets import make_circles\n",
    "from sklearn.model_selection import train_test_split"
   ]
  },
  {
   "cell_type": "code",
   "execution_count": 18,
   "id": "89974eb8",
   "metadata": {},
   "outputs": [],
   "source": [
    "#make 10000 samples\n",
    "n_samples = 10000"
   ]
  },
  {
   "cell_type": "code",
   "execution_count": 19,
   "id": "02701d10",
   "metadata": {},
   "outputs": [],
   "source": [
    "#make circles,keep random state so get same values\n",
    "X,y=make_circles(n_samples,noise=0.03,random_state=42)"
   ]
  },
  {
   "cell_type": "code",
   "execution_count": 20,
   "id": "0ddc3d5a",
   "metadata": {},
   "outputs": [
    {
     "name": "stdout",
     "output_type": "stream",
     "text": [
      "First 5 X features:\n",
      "[[ 0.0464692   0.82477834]\n",
      " [ 1.00506323 -0.43335153]\n",
      " [-0.58348442  0.79452834]\n",
      " [ 0.98478298 -0.32517879]\n",
      " [ 0.82993028 -0.54722305]]\n",
      "\n",
      "First 5 y labels:\n",
      "[1 0 0 0 0]\n"
     ]
    }
   ],
   "source": [
    "print(f\"First 5 X features:\\n{X[:5]}\")\n",
    "print(f\"\\nFirst 5 y labels:\\n{y[:5]}\")\n"
   ]
  },
  {
   "cell_type": "code",
   "execution_count": 21,
   "id": "deb2adf5",
   "metadata": {},
   "outputs": [
    {
     "data": {
      "text/html": [
       "<div>\n",
       "<style scoped>\n",
       "    .dataframe tbody tr th:only-of-type {\n",
       "        vertical-align: middle;\n",
       "    }\n",
       "\n",
       "    .dataframe tbody tr th {\n",
       "        vertical-align: top;\n",
       "    }\n",
       "\n",
       "    .dataframe thead th {\n",
       "        text-align: right;\n",
       "    }\n",
       "</style>\n",
       "<table border=\"1\" class=\"dataframe\">\n",
       "  <thead>\n",
       "    <tr style=\"text-align: right;\">\n",
       "      <th></th>\n",
       "      <th>X1</th>\n",
       "      <th>X2</th>\n",
       "      <th>label</th>\n",
       "    </tr>\n",
       "  </thead>\n",
       "  <tbody>\n",
       "    <tr>\n",
       "      <th>0</th>\n",
       "      <td>0.046469</td>\n",
       "      <td>0.824778</td>\n",
       "      <td>1</td>\n",
       "    </tr>\n",
       "    <tr>\n",
       "      <th>1</th>\n",
       "      <td>1.005063</td>\n",
       "      <td>-0.433352</td>\n",
       "      <td>0</td>\n",
       "    </tr>\n",
       "    <tr>\n",
       "      <th>2</th>\n",
       "      <td>-0.583484</td>\n",
       "      <td>0.794528</td>\n",
       "      <td>0</td>\n",
       "    </tr>\n",
       "    <tr>\n",
       "      <th>3</th>\n",
       "      <td>0.984783</td>\n",
       "      <td>-0.325179</td>\n",
       "      <td>0</td>\n",
       "    </tr>\n",
       "    <tr>\n",
       "      <th>4</th>\n",
       "      <td>0.829930</td>\n",
       "      <td>-0.547223</td>\n",
       "      <td>0</td>\n",
       "    </tr>\n",
       "    <tr>\n",
       "      <th>5</th>\n",
       "      <td>-0.133929</td>\n",
       "      <td>0.776249</td>\n",
       "      <td>1</td>\n",
       "    </tr>\n",
       "    <tr>\n",
       "      <th>6</th>\n",
       "      <td>0.779197</td>\n",
       "      <td>0.645811</td>\n",
       "      <td>0</td>\n",
       "    </tr>\n",
       "    <tr>\n",
       "      <th>7</th>\n",
       "      <td>0.722955</td>\n",
       "      <td>0.173831</td>\n",
       "      <td>1</td>\n",
       "    </tr>\n",
       "    <tr>\n",
       "      <th>8</th>\n",
       "      <td>-0.121807</td>\n",
       "      <td>0.796951</td>\n",
       "      <td>1</td>\n",
       "    </tr>\n",
       "    <tr>\n",
       "      <th>9</th>\n",
       "      <td>0.849529</td>\n",
       "      <td>0.505678</td>\n",
       "      <td>0</td>\n",
       "    </tr>\n",
       "  </tbody>\n",
       "</table>\n",
       "</div>"
      ],
      "text/plain": [
       "         X1        X2  label\n",
       "0  0.046469  0.824778      1\n",
       "1  1.005063 -0.433352      0\n",
       "2 -0.583484  0.794528      0\n",
       "3  0.984783 -0.325179      0\n",
       "4  0.829930 -0.547223      0\n",
       "5 -0.133929  0.776249      1\n",
       "6  0.779197  0.645811      0\n",
       "7  0.722955  0.173831      1\n",
       "8 -0.121807  0.796951      1\n",
       "9  0.849529  0.505678      0"
      ]
     },
     "execution_count": 21,
     "metadata": {},
     "output_type": "execute_result"
    }
   ],
   "source": [
    "#Make DF of circle data\n",
    "import pandas as pd\n",
    "circles = pd.DataFrame({\"X1\": X[:, 0],\n",
    "    \"X2\": X[:, 1],\n",
    "    \"label\": y\n",
    "})\n",
    "circles.head(10)\n"
   ]
  },
  {
   "cell_type": "code",
   "execution_count": 22,
   "id": "2b17a0aa",
   "metadata": {},
   "outputs": [
    {
     "data": {
      "image/png": "[encoded data removed]",
      "text/plain": [
       "<Figure size 640x480 with 1 Axes>"
      ]
     },
     "metadata": {},
     "output_type": "display_data"
    }
   ],
   "source": [
    "# Visualize with color map red yellow blue\n",
    "plt.scatter(x=X[:,0],\n",
    "           y=X[:,1],\n",
    "            c=y,\n",
    "cmap=plt.cm.RdYlBu);"
   ]
  },
  {
   "cell_type": "code",
   "execution_count": 23,
   "id": "57294693",
   "metadata": {},
   "outputs": [
    {
     "data": {
      "text/plain": [
       "((10000, 2), (10000,))"
      ]
     },
     "execution_count": 23,
     "metadata": {},
     "output_type": "execute_result"
    }
   ],
   "source": [
    "X.shape,y.shape"
   ]
  },
  {
   "cell_type": "code",
   "execution_count": 24,
   "id": "c573b7b3",
   "metadata": {},
   "outputs": [
    {
     "name": "stdout",
     "output_type": "stream",
     "text": [
      "Values for one sample of X: [0.0464692  0.82477834] and the same for y: 1\n",
      "Shapes for one sample of X: (2,) and the same for y: ()\n"
     ]
    }
   ],
   "source": [
    "# View the first example of features and labels\n",
    "X_sample = X[0]\n",
    "y_sample = y[0]\n",
    "print(f\"Values for one sample of X: {X_sample} and the same for y: {y_sample}\")\n",
    "print(f\"Shapes for one sample of X: {X_sample.shape} and the same for y: {y_sample.shape}\")"
   ]
  },
  {
   "cell_type": "code",
   "execution_count": 25,
   "id": "bcace182",
   "metadata": {},
   "outputs": [
    {
     "data": {
      "text/plain": [
       "(tensor([[ 0.0465,  0.8248],\n",
       "         [ 1.0051, -0.4334],\n",
       "         [-0.5835,  0.7945],\n",
       "         [ 0.9848, -0.3252],\n",
       "         [ 0.8299, -0.5472]]),\n",
       " tensor([1., 0., 0., 0., 0.]))"
      ]
     },
     "execution_count": 25,
     "metadata": {},
     "output_type": "execute_result"
    }
   ],
   "source": [
    "X=torch.from_numpy(X).type(torch.float)\n",
    "y=torch.from_numpy(y).type(torch.float)\n",
    "\n",
    "X[:5],y[:5]"
   ]
  },
  {
   "cell_type": "code",
   "execution_count": 27,
   "id": "74f2b954",
   "metadata": {},
   "outputs": [
    {
     "data": {
      "text/plain": [
       "(8000, 2000, 8000, 2000)"
      ]
     },
     "execution_count": 27,
     "metadata": {},
     "output_type": "execute_result"
    }
   ],
   "source": [
    "#80% training,20% testing\n",
    "#800 training samples and 200 testing samples\n",
    "X_train,X_test,y_train,y_test=train_test_split(X,\n",
    "                                              y,\n",
    "                                              test_size=0.2,\n",
    "                                              random_state=42)\n",
    "len(X_train),len(X_test),len(y_train),len(y_test)"
   ]
  },
  {
   "cell_type": "markdown",
   "id": "5e3356dd",
   "metadata": {},
   "source": [
    "## Building Model"
   ]
  },
  {
   "cell_type": "code",
   "execution_count": 28,
   "id": "fa11d4fe",
   "metadata": {},
   "outputs": [
    {
     "data": {
      "text/plain": [
       "'cpu'"
      ]
     },
     "execution_count": 28,
     "metadata": {},
     "output_type": "execute_result"
    }
   ],
   "source": [
    "device=\"cuda\" if torch.cuda.is_available() else \"cpu\"\n",
    "device"
   ]
  },
  {
   "cell_type": "code",
   "execution_count": 31,
   "id": "b4c6220c",
   "metadata": {},
   "outputs": [
    {
     "data": {
      "text/plain": [
       "CircleModelV0(\n",
       "  (layer_1): Linear(in_features=2, out_features=5, bias=True)\n",
       "  (layer_2): Linear(in_features=5, out_features=1, bias=True)\n",
       ")"
      ]
     },
     "execution_count": 31,
     "metadata": {},
     "output_type": "execute_result"
    }
   ],
   "source": [
    "class CircleModelV0(nn.Module):\n",
    "    def __init__(self):\n",
    "        super().__init__()\n",
    "        #create 2 neural network capable of handling X and y input and output\n",
    "        self.layer_1=nn.Linear(in_features=2,out_features=5)#takes in 2 features (X),produces 5 features\n",
    "        self.layer_2=nn.Linear(in_features=5,out_features=1)#takes in 5 features, produces 1 feature(y)\n",
    "    \n",
    "    #Define 1 forward method containing the forward pass computation\n",
    "    def forward(self,x):\n",
    "        #Return the output of layer_2, a single feature, the same shape as y\n",
    "        return self.layer_2(self.layer_1(x))\n",
    "\n",
    "model_0=CircleModelV0().to(device)\n",
    "model_0"
   ]
  },
  {
   "cell_type": "markdown",
   "id": "7e69af8f",
   "metadata": {},
   "source": [
    "Having 5 neurons => layer turns input data from having 2 features to 5"
   ]
  },
  {
   "cell_type": "code",
   "execution_count": 32,
   "id": "1a3f96d7",
   "metadata": {},
   "outputs": [
    {
     "name": "stdout",
     "output_type": "stream",
     "text": [
      "Length of predictions: 2000, Shape: torch.Size([2000, 1])\n",
      "Length of test samples: 2000, Shape: torch.Size([2000])\n",
      "\n",
      "First 10 predictions:\n",
      "tensor([[-0.3291],\n",
      "        [-0.0443],\n",
      "        [-0.1879],\n",
      "        [-0.4065],\n",
      "        [-0.4877],\n",
      "        [-0.2155],\n",
      "        [-0.2888],\n",
      "        [-0.2725],\n",
      "        [-0.3595],\n",
      "        [-0.5813]], grad_fn=<SliceBackward0>)\n",
      "\n",
      "First 10 test labels:\n",
      "tensor([1., 1., 0., 1., 0., 1., 1., 1., 1., 1.])\n"
     ]
    }
   ],
   "source": [
    "# Make predictions with the model\n",
    "untrained_preds = model_0(X_test.to(device))\n",
    "print(f\"Length of predictions: {len(untrained_preds)}, Shape: {untrained_preds.shape}\")\n",
    "print(f\"Length of test samples: {len(y_test)}, Shape: {y_test.shape}\")\n",
    "print(f\"\\nFirst 10 predictions:\\n{untrained_preds[:10]}\")\n",
    "print(f\"\\nFirst 10 test labels:\\n{y_test[:10]}\")"
   ]
  },
  {
   "cell_type": "code",
   "execution_count": 35,
   "id": "d1dfe26c",
   "metadata": {},
   "outputs": [],
   "source": [
    "# Create a loss function (how wrong model prediction are)\n",
    "loss_fn = nn.BCEWithLogitsLoss()\n",
    "\n",
    "#optimizer\n",
    "optimizer=torch.optim.SGD(params=model_0.parameters(),lr=0.1)"
   ]
  },
  {
   "cell_type": "code",
   "execution_count": 36,
   "id": "4de137ca",
   "metadata": {},
   "outputs": [
    {
     "data": {
      "text/plain": [
       "OrderedDict([('layer_1.weight',\n",
       "              tensor([[-0.4669, -0.3428],\n",
       "                      [ 0.2053,  0.5314],\n",
       "                      [-0.3193,  0.4271],\n",
       "                      [ 0.2621,  0.4972],\n",
       "                      [-0.3695,  0.7068]])),\n",
       "             ('layer_1.bias',\n",
       "              tensor([-0.4359,  0.5233,  0.5956,  0.5554, -0.2586])),\n",
       "             ('layer_2.weight',\n",
       "              tensor([[ 0.3175, -0.0562, -0.3753, -0.1063,  0.0028]])),\n",
       "             ('layer_2.bias', tensor([0.1571]))])"
      ]
     },
     "execution_count": 36,
     "metadata": {},
     "output_type": "execute_result"
    }
   ],
   "source": [
    "model_0.state_dict()"
   ]
  },
  {
   "cell_type": "code",
   "execution_count": 37,
   "id": "b705a46b",
   "metadata": {},
   "outputs": [],
   "source": [
    "#calculate accurasy\n",
    "def accurasy_fn(y_true,y_red):\n",
    "    correct-torch.eq(y+true,y_pred.sum().item())\n",
    "    acc=(correct/len(y_pred))*100\n",
    "    return acc"
   ]
  },
  {
   "cell_type": "code",
   "execution_count": null,
   "id": "8390bedd",
   "metadata": {},
   "outputs": [],
   "source": []
  }
 ],
 "metadata": {
  "kernelspec": {
   "display_name": "Python 3 (ipykernel)",
   "language": "python",
   "name": "python3"
  },
  "language_info": {
   "codemirror_mode": {
    "name": "ipython",
    "version": 3
   },
   "file_extension": ".py",
   "mimetype": "text/x-python",
   "name": "python",
   "nbconvert_exporter": "python",
   "pygments_lexer": "ipython3",
   "version": "3.10.9"
  }
 },
 "nbformat": 4,
 "nbformat_minor": 5
}
